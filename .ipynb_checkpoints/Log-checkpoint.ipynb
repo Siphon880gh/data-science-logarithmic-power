{
 "cells": [
  {
   "cell_type": "markdown",
   "id": "c9b7d08a",
   "metadata": {},
   "source": [
    "# Power and Logarithms\n",
    "By [Weng Fei Fung](https://github.com/Siphon880gh/data-science-logarithmic-power).\n",
    "Code from me. Diagram lessons from Math Warehouse. This is for educational purposes."
   ]
  },
  {
   "cell_type": "code",
   "execution_count": null,
   "id": "a3c65ea1",
   "metadata": {},
   "outputs": [],
   "source": []
  },
  {
   "cell_type": "code",
   "execution_count": null,
   "id": "fdb2b60d",
   "metadata": {},
   "outputs": [],
   "source": [
    "import pylab\n",
    "import matplotlib.pyplot as plt\n",
    "import math"
   ]
  },
  {
   "cell_type": "code",
   "execution_count": null,
   "id": "3468d29d",
   "metadata": {},
   "outputs": [],
   "source": [
    "print(\"Hello!!\")"
   ]
  },
  {
   "cell_type": "code",
   "execution_count": null,
   "id": "056e2f5c",
   "metadata": {
    "scrolled": true
   },
   "outputs": [],
   "source": [
    "# exponential function y = 10^x\n",
    "data = [10**i for i in range(5)]\n",
    "\n",
    "plt.plot(data)"
   ]
  },
  {
   "cell_type": "code",
   "execution_count": null,
   "id": "ede1ef64",
   "metadata": {},
   "outputs": [],
   "source": []
  },
  {
   "cell_type": "code",
   "execution_count": null,
   "id": "d64bd8ad",
   "metadata": {},
   "outputs": [],
   "source": [
    "# logarithmic function base 10 where x is 1...5\n",
    "data = [math.log(10**i, 10) for i in range(5)]\n",
    "\n",
    "plt.plot(data)"
   ]
  },
  {
   "cell_type": "code",
   "execution_count": null,
   "id": "ff2cb4d3",
   "metadata": {},
   "outputs": [],
   "source": []
  },
  {
   "cell_type": "code",
   "execution_count": null,
   "id": "064f354e",
   "metadata": {},
   "outputs": [],
   "source": [
    "# logarithmic function base 10 where x is 1...100\n",
    "# i=100, then y=2 (because 10^2=100)\n",
    "# i=10, then y=1 (because 10^1=10)\n",
    "data = [math.log(i, 10) for i in range(1,100)]\n",
    "plt.plot(data)"
   ]
  },
  {
   "cell_type": "code",
   "execution_count": null,
   "id": "9077febb",
   "metadata": {},
   "outputs": [],
   "source": []
  },
  {
   "cell_type": "code",
   "execution_count": null,
   "id": "a5619201",
   "metadata": {},
   "outputs": [],
   "source": [
    "# ZOOMED IN: logarithmic function base 10 where x is 1...1000\n",
    "# i=1000, then y=3 (because 10^3=1000)\n",
    "# i=100, then y=2 (because 10^2=100)\n",
    "# i=10, then y=1 (because 10^1=10)\n",
    "data = [math.log(i, 10) for i in range(1,1000)]\n",
    "plt.plot(data)"
   ]
  },
  {
   "cell_type": "code",
   "execution_count": null,
   "id": "8a13f5d0",
   "metadata": {},
   "outputs": [],
   "source": []
  },
  {
   "cell_type": "code",
   "execution_count": null,
   "id": "c40010a9",
   "metadata": {
    "scrolled": true
   },
   "outputs": [],
   "source": [
    "# logarithmic function base 10 where i is 1...5, x = 1/i\n",
    "data = [math.log(1/i, 10) for i in range(1,100)]\n",
    "plt.plot(data)"
   ]
  },
  {
   "cell_type": "code",
   "execution_count": null,
   "id": "8a377918",
   "metadata": {},
   "outputs": [],
   "source": []
  },
  {
   "cell_type": "code",
   "execution_count": null,
   "id": "a48069c4",
   "metadata": {},
   "outputs": [],
   "source": [
    "# logarithmic function base 0.2 where i is 1...100\n",
    "data = [math.log(i, 0.2) for i in range(1,100)]\n",
    "plt.plot(data)"
   ]
  },
  {
   "cell_type": "code",
   "execution_count": null,
   "id": "db0645a3",
   "metadata": {},
   "outputs": [],
   "source": []
  },
  {
   "cell_type": "markdown",
   "id": "2a84382f",
   "metadata": {},
   "source": [
    "Quick Lessons from:\n",
    "https://www.mathwarehouse.com/logarithm/graph/properties-of-logarithm-graphs.php"
   ]
  },
  {
   "cell_type": "markdown",
   "id": "21e4c0db",
   "metadata": {},
   "source": [
    "![Simple rules](https://www.mathwarehouse.com/logarithm/images/graphs/log-graph-as-inverse-of-exponential-function.webp)"
   ]
  },
  {
   "cell_type": "markdown",
   "id": "910bc37e",
   "metadata": {},
   "source": [
    "![General cases](https://www.mathwarehouse.com/logarithm/images/identif-graph-of-logarithmA.webp)"
   ]
  },
  {
   "cell_type": "code",
   "execution_count": null,
   "id": "5a92f835",
   "metadata": {},
   "outputs": [],
   "source": []
  },
  {
   "cell_type": "code",
   "execution_count": null,
   "id": "efc76d69",
   "metadata": {},
   "outputs": [],
   "source": []
  }
 ],
 "metadata": {
  "kernelspec": {
   "display_name": "Python 3 (ipykernel)",
   "language": "python",
   "name": "python3"
  },
  "language_info": {
   "codemirror_mode": {
    "name": "ipython",
    "version": 3
   },
   "file_extension": ".py",
   "mimetype": "text/x-python",
   "name": "python",
   "nbconvert_exporter": "python",
   "pygments_lexer": "ipython3",
   "version": "3.9.12"
  }
 },
 "nbformat": 4,
 "nbformat_minor": 5
}
